{
  "nbformat": 4,
  "nbformat_minor": 0,
  "metadata": {
    "colab": {
      "name": "Worksheet - Dictionaries.ipynb",
      "provenance": [],
      "include_colab_link": true
    },
    "kernelspec": {
      "name": "python3",
      "display_name": "Python 3"
    },
    "language_info": {
      "name": "python"
    }
  },
  "cells": [
    {
      "cell_type": "markdown",
      "metadata": {
        "id": "view-in-github",
        "colab_type": "text"
      },
      "source": [
        "<a href=\"https://colab.research.google.com/github/mentaltraveller/Data-Science/blob/main/Worksheet_Dictionaries.ipynb\" target=\"_parent\"><img src=\"https://colab.research.google.com/assets/colab-badge.svg\" alt=\"Open In Colab\"/></a>"
      ]
    },
    {
      "cell_type": "markdown",
      "metadata": {
        "id": "AiiF1h2X4PHP"
      },
      "source": [
        "# Dictionaries\n",
        "\n",
        "---\n",
        "\n",
        "A **dictionary** is a collection of dissimilar data stored together in one *record*. Each item of data has a  (or key) that describes its paired value.  \n",
        "\n",
        "Create a dictionary object by declaring the set of keys and values, e.g.:\n",
        "\n",
        "```\n",
        "   transport = {\n",
        "       \"type\":\"bus\",\n",
        "       \"numPassengers\":72,\n",
        "       \"colour\":\"blue\",\n",
        "       \"fuel\":\"diesel\"\n",
        "   }\n",
        "```\n",
        "\n",
        "To access a value in a dictionary, use its key:  \n",
        "\n",
        "```\n",
        "transport[\"type\"] = \"coach\"\n",
        "transport_type = transport[\"type\"]\n",
        "transport_colour = transport[\"colour\"]\n",
        "transport[\"fuel\"] = petrol\n",
        "```\n",
        "\n",
        "To add a new key/value pair to a dictionary, simply assign a value to a new key:  \n",
        "```\n",
        "transport[\"seats\"] = 54\n",
        "```\n",
        "\n",
        "The transport dictionary will now look like this:  \n",
        "```\n",
        "   transport = {\n",
        "       \"type\":\"bus\",\n",
        "       \"numPassengers\":72,\n",
        "       \"colour\":\"blue\",\n",
        "       \"fuel\":\"diesel\",\n",
        "       \"seats\":54\n",
        "   }\n",
        "```\n",
        "\n"
      ]
    },
    {
      "cell_type": "markdown",
      "metadata": {
        "id": "1uZ5kNWB6CqK"
      },
      "source": [
        "---\n",
        "### Exercise 1 - print dictionary\n",
        "\n",
        "Write a function which will:  \n",
        "\n",
        "*  create an empty dictionary for a person (name, age and postcode, with values \"\", 0 and \"\")\n",
        "*  ask the user for name, age and postcode and assign the values to the correct keys in the dictionary  \n",
        "*  print the dictionary\n",
        "\n",
        "Test input:  \n",
        "Jack Jones  \n",
        "16  \n",
        "AB5 3DF  \n",
        "\n",
        "Expected output:  \n",
        "[\"name\":\"Jack Jones\", \"age\":16, \"postcode\":\"AB5 3DF\"]"
      ]
    },
    {
      "cell_type": "code",
      "metadata": {
        "id": "Ac7VQTj94Mrc",
        "colab": {
          "base_uri": "https://localhost:8080/"
        },
        "outputId": "ac928a14-7bd3-43b8-da56-e3302bff6fb9"
      },
      "source": [
        "def print_dict():\n",
        "  personal_details = {} #initialising empty dictionary\n",
        "  name = input(\"What's your name?\")\n",
        "  age = int(input(\"What's your age?\"))\n",
        "  postcode = input(\"What's the postcode?\")\n",
        "  personal_details[\"name\"] = name #assigning the keys and values to dictionary\n",
        "  personal_details[\"age\"] = age\n",
        "  personal_details[\"postcode\"] = postcode\n",
        "  print(personal_details)\n",
        "\n",
        "print_dict()  "
      ],
      "execution_count": null,
      "outputs": [
        {
          "output_type": "stream",
          "text": [
            "What's your name?Chrys\n",
            "What's your age?33\n",
            "What's the postcode?eh75he\n",
            "{'name': 'Chrys', 'age': 33, 'postcode': 'eh75he'}\n"
          ],
          "name": "stdout"
        }
      ]
    },
    {
      "cell_type": "markdown",
      "metadata": {
        "id": "0OtNqNKv7WKm"
      },
      "source": [
        "---\n",
        "### Exercise 2 - create a dictionary\n",
        "\n",
        "Write a function that will create two dictionaries,without values:  \n",
        "\n",
        "1.  person (with keys firstname, surname, birthdate, postcode)  \n",
        "2.  car (with key/value pairs as follows:  make - Vauxhall, model - Corsa, engineSize - 1199, fuelType - unleaded, num_doors - 4)  \n",
        "\n",
        "*   ask the user to enter the values for the person dictionary  \n",
        "*   print, on one line, the person's name from the person dictionary and the make of the car from the car dictionary.\n",
        "\n",
        "Test input:  \n",
        "Jack  \n",
        "Jones  \n",
        "2005/02/02    \n",
        "AB5 3DF  \n",
        "\n",
        "Expected output:  \n",
        "Jack Jones Vauxhall"
      ]
    },
    {
      "cell_type": "code",
      "metadata": {
        "id": "ZyqhaBCC-GdI",
        "colab": {
          "base_uri": "https://localhost:8080/"
        },
        "outputId": "ce03c29c-179c-4356-b55f-33a00672ccfa"
      },
      "source": [
        "def two_dicts():\n",
        "  person = {}\n",
        "  car = {\"make\": \"Vauxhall\", \"model\": \"Corsa\", \"engineSize\": 1199, \"fuelType\": \"unleaded\", \"num_doors\": 4}\n",
        "  firstname = input(\"Enter the name\")\n",
        "  surname = input(\"Enter the surname\")\n",
        "  birthdate = input(\"Enter birthdate\")\n",
        "  postcode = input(\"Enter postcode\")\n",
        "  person[\"firstname\"] = firstname\n",
        "  person[\"surname\"] = surname\n",
        "  person[\"birthdate\"] = birthdate\n",
        "  person[\"postcode\"] = postcode\n",
        "  print(person[\"firstname\"], person[\"surname\"], car[\"make\"]) #Don't forget the \"\" for the keys!\n",
        "\n",
        "two_dicts()"
      ],
      "execution_count": null,
      "outputs": [
        {
          "output_type": "stream",
          "text": [
            "Enter the nameJack\n",
            "Enter the surnameJones\n",
            "Enter birthdate2005/02/02\n",
            "Enter postcodeAB5 3DF\n",
            "Jack Jones Vauxhall\n"
          ],
          "name": "stdout"
        }
      ]
    },
    {
      "cell_type": "markdown",
      "metadata": {
        "id": "gYuuOUYw-G4I"
      },
      "source": [
        "---\n",
        "### Exercise 3 - check dictionary values\n",
        "\n",
        "Write a new function which will:\n",
        "\n",
        "*  set up the same two dictionaries as in Exercise 2  \n",
        "*  ask the user to enter the details to complete the person record  \n",
        "*  calculate the person's age  \n",
        "*  if the person is under 17 then print a message to say that they can't buy a car as they are too young to drive\n",
        "*  else if the person is under 25 then print a message to say that an engine size under 1200 is recommended  \n",
        "*  ask the user to enter the make of car that the person is looking for  \n",
        "*  if the user enters the same make as that stored in the car record, then print a message to say that you have one car of that make in stock and print all the details of the car that you have the record for\n",
        "*  else (if the user enters any other car make) then print a message to say sorry that you don't have any cars of that make in stock\n",
        "*  print a message to say that the user can get more details for stockist in the <user's postcode> area if they call 01234567890\n",
        "*  print a message to say \"Thank you <user's name> for using our site\"  \n",
        "\n",
        "Test input:  \n",
        "Jack  \n",
        "Jones  \n",
        "2005/02/02  \n",
        "AB5 3DF  \n",
        "Vauxhall  \n",
        "\n",
        "Expected output:  \n",
        "You are too young to drive\n",
        "\n",
        "Test input:  \n",
        "John  \n",
        "Jones  \n",
        "2003/02/02  \n",
        "AB5 3DF  \n",
        "Vauxhall \n",
        "\n",
        "Expected output:  \n",
        "An engine size under 1200 is recommended  \n",
        "We have one Vauxhall in stock, details:  \n",
        "Make - Vauxhall    \n",
        "Model - Corsa    \n",
        "Engine size - 1199  \n",
        "Fuel type - unleaded   \n",
        "Number of doors - 4  \n",
        "You can get more details of stockists near AB5 3DF on 01234567890  \n",
        "Thank you John Jones for using our site.     \n",
        "\n",
        "Test input:  \n",
        "John  \n",
        "Jones  \n",
        "2003/02/02  \n",
        "AB5 3DF  \n",
        "Ford  \n",
        "\n",
        "Expected output:  \n",
        "An engine size under 1200 is recommended  \n",
        "Sorry, we don't have any of that make in stock  \n"
      ]
    },
    {
      "cell_type": "code",
      "metadata": {
        "id": "Wp9Il2JG_hDh",
        "colab": {
          "base_uri": "https://localhost:8080/"
        },
        "outputId": "08f93f2b-6e1f-41bc-cac0-463d7fe464b2"
      },
      "source": [
        "  from datetime import datetime  \n",
        "  person = {}\n",
        "  car = {\"Make\": \"Vauxhall\", \"Model\": \"Corsa\", \"Engine size\": 1199, \"Fuel type\": \"unleaded\", \"number of doors\": 4}\n",
        "  firstname = input(\"Enter the name\")\n",
        "  surname = input(\"Enter the surname\")\n",
        "  birthdate = input(\"Enter birthdate in yyyy/mm/dd format\")\n",
        "  postcode = input(\"Enter postcode\")\n",
        "  make_of_car = input(\"Enter the make that you are looking for\")\n",
        "  person[\"firstname\"] = firstname\n",
        "  person[\"surname\"] = surname\n",
        "  person[\"birthdate\"] = birthdate\n",
        "  person[\"postcode\"] = postcode\n",
        "  birthday = datetime.strptime(birthdate, '%Y/%m/%d')\n",
        "  age = int((datetime.today() - birthday).days/365)\n",
        "  #print(age) I wanted to see if I was able to calculate age correctly\n",
        "  if age < 17:\n",
        "    print(\"You're too young to drive\")\n",
        "  elif age >= 17 and age <= 25:\n",
        "    print(\"An engine size under 1200 is recommended\")  \n",
        "    if make_of_car == car[\"Make\"]: #\"make\" wasn't recognised\n",
        "      #also if user types \"vauxhall\" instead of \"Vauxhall\", program shows there is no stock\n",
        "      print(\"We have one\", car[\"Make\"], \"in stock, details\")\n",
        "      for key in car.keys():\n",
        "        print(key, \"-\", car[key])\n",
        "      print(\"You can get more details of stockists near\", postcode, \"on 01234567890\")\n",
        "      print(\"Thank you\", firstname, surname, \"for using our site\")  \n",
        "    elif make_of_car != car[\"Make\"]:\n",
        "      print(\"Sorry, we don't have any cars of that make in stock.\")\n",
        "      \n",
        "  \n"
      ],
      "execution_count": null,
      "outputs": [
        {
          "output_type": "stream",
          "text": [
            "Enter the nameJohn\n",
            "Enter the surnameJones\n",
            "Enter birthdate in yyyy/mm/dd format2002/02/02\n",
            "Enter postcodeab5edf\n",
            "Enter the make that you are looking forFord\n",
            "An engine size under 1200 is recommended\n",
            "Sorry, we don't have any cars of that make in stock.\n"
          ],
          "name": "stdout"
        }
      ]
    },
    {
      "cell_type": "markdown",
      "metadata": {
        "id": "I6dUiRwn7Gkg"
      },
      "source": [
        "---\n",
        "### Exercise 4 - print keys and values\n",
        "\n",
        "Two dictionaries have been created below.  You can print a list of the dictionary's keys using dictionary_name.keys() and the values using dictionary_name.values()\n",
        "\n",
        "Write a function which will accept a dictionary as a parameter and will:  \n",
        "*  print the dictionary keys as a list  \n",
        "*  print the dictionary values as a list\n",
        "\n",
        "Expected Output\n",
        "\n",
        "['Andy', 'Angela']\n",
        "[25, 55]\n",
        "['Andy', 'Angela']\n",
        "[58, 72]  \n",
        "\n",
        "\n",
        "\n"
      ]
    },
    {
      "cell_type": "code",
      "metadata": {
        "id": "FApOckhJEsMs",
        "colab": {
          "base_uri": "https://localhost:8080/"
        },
        "outputId": "442faeae-3fc4-4c88-aeac-4f9a148f9272"
      },
      "source": [
        "english_scores = {'Andy': 95, 'Angela': 53}\n",
        "maths_scores = {'Andy': 58, 'Angela': 72}\n",
        "print(english_scores.keys())\n",
        "print(english_scores.values())\n",
        "print(maths_scores.keys())\n",
        "print(maths_scores.values())\n"
      ],
      "execution_count": null,
      "outputs": [
        {
          "output_type": "stream",
          "text": [
            "dict_keys(['Andy', 'Angela'])\n",
            "dict_values([95, 53])\n",
            "dict_keys(['Andy', 'Angela'])\n",
            "dict_values([58, 72])\n"
          ],
          "name": "stdout"
        }
      ]
    },
    {
      "cell_type": "markdown",
      "metadata": {
        "id": "segSpkmBFSJl"
      },
      "source": [
        "---\n",
        "### Exercise 5 - add field\n",
        "\n",
        "Write a function which will:\n",
        "\n",
        "*  create a new dictionary called science with values of 0 for both Angela and Andy\n",
        "*  update Andy's score for science to 73 and Angela's score to 73   \n",
        "*  create a new key/value pair by adding another learner to the science  dictionary (George has a score of 55)    \n",
        "*  print the science dictionary to check results  \n",
        "\n",
        "Expected Output\n",
        "\n",
        "{'Andy': 73, 'Angela': 73, 'George': 55}"
      ]
    },
    {
      "cell_type": "code",
      "metadata": {
        "id": "BL1JM-Z7Gttf",
        "colab": {
          "base_uri": "https://localhost:8080/"
        },
        "outputId": "553e7c4f-8fc4-459f-8c9c-80becdf33da7"
      },
      "source": [
        "science = {\"Andy\": 0, \"Angela\": 0}\n",
        "science[\"Andy\"] = 73\n",
        "science[\"Angela\"] = 73\n",
        "science[\"George\"] = 55\n",
        "print(science)"
      ],
      "execution_count": null,
      "outputs": [
        {
          "output_type": "stream",
          "text": [
            "{'Andy': 73, 'Angela': 73, 'George': 55}\n"
          ],
          "name": "stdout"
        }
      ]
    },
    {
      "cell_type": "markdown",
      "metadata": {
        "id": "_Vzv0zlHGt-C"
      },
      "source": [
        "---\n",
        "### Exercise 6 - loop through keys/value pairs\n",
        "\n",
        "Write a function which will use a *for* loop to print the each key/value pair in the science dictionary (recreate this dictionary in this function) \n",
        "\n",
        "*(Hint: you can iterate through the key/value pairs in the dictionary in the same way as you iterate through a loop (e.g. for record in dictionary) and print the record (which is the key) and its value)*\n",
        "\n",
        "Expected output:  \n",
        "\n",
        "Angela 72  \n",
        "Andy 72  \n",
        "George 55  "
      ]
    },
    {
      "cell_type": "code",
      "metadata": {
        "id": "JL40_-W-Hxnt",
        "colab": {
          "base_uri": "https://localhost:8080/"
        },
        "outputId": "83fa2174-e6a6-4808-809e-82d9e9db580e"
      },
      "source": [
        "science = {'Andy': 73, 'Angela': 73, 'George': 55}\n",
        "for key in science.keys():\n",
        "  print(key, science[key])"
      ],
      "execution_count": 2,
      "outputs": [
        {
          "output_type": "stream",
          "text": [
            "Andy 73\n",
            "Angela 73\n",
            "George 55\n"
          ],
          "name": "stdout"
        }
      ]
    },
    {
      "cell_type": "markdown",
      "metadata": {
        "id": "G9wamxzRJdrE"
      },
      "source": [
        "---\n",
        "### Exercise 7 - generate new dictionary  \n",
        "\n",
        "Write a functions which will:\n",
        "*  create a new dictionary where the keys are numbers between 1 and 15 (both included) and the values are square of keys\n",
        "*  print the dictionary\n",
        "\n",
        "Expected output:  \n",
        "{1: 1, 2: 4, 3: 9, 4: 16, 5: 25, 6: 36, 7: 49, 8: 64, 9: 81, 10: 100, 11: 121, 12: 144, 13: 169, 14: 196, 15: 225}"
      ]
    },
    {
      "cell_type": "code",
      "metadata": {
        "id": "1-LI-LVrJ--N"
      },
      "source": [
        ""
      ],
      "execution_count": null,
      "outputs": []
    },
    {
      "cell_type": "markdown",
      "metadata": {
        "id": "t0y4mefwJ_jQ"
      },
      "source": [
        "---\n",
        "### Exercise 8 - colour dictionary  \n",
        "\n",
        "Write a function which will:  \n",
        "*  create a new dictionary record called colour_codes with the values 'red' - '#FF0000', 'green' - '#008000', 'black' - '#000000', 'white' - '#FFFFFF'\n",
        "*  add a new colour code:  'blue' - '#0000FF'    \n",
        "*  remove the colours black and white from the dictionary  \n",
        "\n",
        "*Hint:  there is a list of methods [here](https://www.w3schools.com/python/python_ref_dictionary.asp)*  "
      ]
    },
    {
      "cell_type": "code",
      "metadata": {
        "id": "yod1mUNOMeWg",
        "colab": {
          "base_uri": "https://localhost:8080/"
        },
        "outputId": "4ba97714-05b7-40f8-a48e-1cd6e2fe03a6"
      },
      "source": [
        "colour_codes = {'red':'#FF0000', 'green':'#008000', 'black':'#000000', 'white':'#FFFFFF'}\n",
        "colour_codes['blue'] = '#0000FF'\n",
        "colour_codes.pop('black')\n",
        "colour_codes.pop('white')\n",
        "print(colour_codes)"
      ],
      "execution_count": 3,
      "outputs": [
        {
          "output_type": "stream",
          "text": [
            "{'red': '#FF0000', 'green': '#008000', 'blue': '#0000FF'}\n"
          ],
          "name": "stdout"
        }
      ]
    },
    {
      "cell_type": "markdown",
      "metadata": {
        "id": "gjos_0vuMeyS"
      },
      "source": [
        "---\n",
        "### Exercise 9 - item tuples  \n",
        "\n",
        "Write a function which will:  \n",
        "*  create a new dictionary containing the colour codes for red, green, blue, black and white\n",
        "*  print the key/value pairs of a dictionary as a list of tuples  \n",
        "\n",
        "*Hint:  iterate through colours.items()*"
      ]
    },
    {
      "cell_type": "code",
      "metadata": {
        "id": "EzuMkUypOKTY",
        "colab": {
          "base_uri": "https://localhost:8080/"
        },
        "outputId": "0391fabc-2adf-485a-c357-72451c73fbe5"
      },
      "source": [
        "colour_codes = {'red':'#FF0000', 'green':'#008000', 'black':'#000000', 'white':'#FFFFFF', 'blue': '#0000FF'}\n",
        "list = [(k, v) for k, v in colour_codes.items()]\n",
        "print(list)"
      ],
      "execution_count": 4,
      "outputs": [
        {
          "output_type": "stream",
          "text": [
            "[('red', '#FF0000'), ('green', '#008000'), ('black', '#000000'), ('white', '#FFFFFF'), ('blue', '#0000FF')]\n"
          ],
          "name": "stdout"
        }
      ]
    },
    {
      "cell_type": "markdown",
      "metadata": {
        "id": "Jw1ot10cOc6r"
      },
      "source": [
        "---\n",
        "### Exercise 10 - check if empty\n",
        "Taken from w3resouce.com  \n",
        "\n",
        "Write a function which will check if a dictionary is empty or not\n",
        "\n",
        "*Hint:  you can use bool(dictionary_name), if the dictionary is empty then bool(dictionary_name will be false)*\n",
        "\n",
        "Test 1 sample data:\n",
        "{}\n",
        "\n",
        "Expected output:\n",
        "Dictionary is empty  \n",
        "\n",
        "Test 2 sample data:  \n",
        "{\"name\":\"Groucho\", \"occupation\":\"comedian\"}\n",
        "\n",
        "Expected output:  \n",
        "Dictionary is not empty"
      ]
    },
    {
      "cell_type": "code",
      "metadata": {
        "id": "7UdM1TfwRqnt",
        "colab": {
          "base_uri": "https://localhost:8080/"
        },
        "outputId": "9c071c09-80cc-47e0-ad11-877f341e6f12"
      },
      "source": [
        "dictionary = input({})\n",
        "if bool(dictionary) == False:\n",
        "  print(\"Dictionary is empty\")\n",
        "else:\n",
        "  print(\"Dictionary is not empty\")  "
      ],
      "execution_count": 11,
      "outputs": [
        {
          "output_type": "stream",
          "text": [
            "[object Object]\"name\":\"Groucho\", \"occupation\":\"comedian\"\n",
            "Dictionary is not empty\n"
          ],
          "name": "stdout"
        }
      ]
    }
  ]
}