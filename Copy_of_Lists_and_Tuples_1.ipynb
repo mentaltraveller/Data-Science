{
  "nbformat": 4,
  "nbformat_minor": 0,
  "metadata": {
    "colab": {
      "name": "Copy of Lists and Tuples 1.ipynb",
      "provenance": [],
      "collapsed_sections": [],
      "include_colab_link": true
    },
    "kernelspec": {
      "name": "python3",
      "display_name": "Python 3"
    },
    "language_info": {
      "name": "python"
    }
  },
  "cells": [
    {
      "cell_type": "markdown",
      "metadata": {
        "id": "view-in-github",
        "colab_type": "text"
      },
      "source": [
        "<a href=\"https://colab.research.google.com/github/mentaltraveller/Data-Science/blob/main/Copy_of_Lists_and_Tuples_1.ipynb\" target=\"_parent\"><img src=\"https://colab.research.google.com/assets/colab-badge.svg\" alt=\"Open In Colab\"/></a>"
      ]
    },
    {
      "cell_type": "markdown",
      "metadata": {
        "id": "Z-M-RCWATK71"
      },
      "source": [
        "# Lists and tuples\n",
        "\n",
        "Often we need to store a number of single items of data together so that they can be processed together. This might be because all the data refers to one person (e.g. name, age, gender, etc) OR it might be because we have a set of data (e.g. all the items that should be displayed in a drop down list, such as all the years from this year back to 100 years ago so that someone can select their year of birth)\n",
        "\n",
        "Python has a range of data structures available including:\n",
        "*   lists  \n",
        "*   tuples  \n",
        "*   dictionaries  \n",
        "*   sets\n",
        "\n",
        "This worksheet looks at lists and tuples.\n",
        "\n",
        "## List\n",
        "A list is a set of related, individual data objects, that are indexed and can be processed as a whole, as subsets or as individual items.  Lists are stored, essentially, as contiguous items in memory so that access can be as quick as possible.  However, they are mutable (they can be changed after they are created and stored) and so those mechanisms need to include extra functionality to deal with changing list sizes.\n",
        "\n",
        "## Tuple\n",
        "Essentially the same as a list but it is immutable.  Once it has been created it can't be changed.  It is stored in memory as contiguous items, with the size required being fixed right from the start.  This makes it faster to access.\n",
        "\n",
        "The code below will create two lists and a tuple.\n",
        "*   the first list contains 1000 random numbers between 1 and 100\n",
        "*   the second list is of random length (up to 5000) and each item is one of the 9 characteristics that are protected under the Equality Act in the UK.\n",
        "*   the tuple contains the 9 protected characteristics\n",
        "\n",
        "Before you start the exercises, run the code below.  It will generate the lists and tuple so that you can use them in the exercises.  If you need to recreate the lists again (because you have changed them and need to work on the originals, just run this cell again).\n",
        "\n",
        "***Note:***  *a list variable contains a reference to the start of the list in memory, rather than storing the list itself.  This means that if you assign the list to another variable (to make a copy), it will only copy across the reference.  If you change the copy, you change the original list.*\n",
        "\n",
        "*If you need to make a copy of the list you will need to use a loop to create a new list and copy all items across.*"
      ]
    },
    {
      "cell_type": "code",
      "metadata": {
        "id": "BDRckXeQXFMT"
      },
      "source": [
        "from random import randint, choice\n",
        "\n",
        "def get_num_list():\n",
        "  num_list = [randint(1,100) for n in range(1000)]\n",
        "  return num_list\n",
        "\n",
        "def get_protected_characteristics():\n",
        "  characteristics_tuple = ('age','disability','gender reassignment','marriage and civil partnership','pregnancy and maternity','race','religion or belief','sex','sexual orientation')\n",
        "  return characteristics_tuple\n",
        "\n",
        "def get_protected_characteristic_list(protected_characteristics):\n",
        "  char_list = [choice(protected_characteristics) for ch in range(randint(1,5000))]\n",
        "  return char_list\n",
        "\n",
        "nums = get_num_list()\n",
        "protected_characteristics = get_protected_characteristics()\n",
        "characteristics = get_protected_characteristic_list(protected_characteristics)"
      ],
      "execution_count": 1,
      "outputs": []
    },
    {
      "cell_type": "markdown",
      "metadata": {
        "id": "xXT38-4ZV45n"
      },
      "source": [
        "## The exercises below will use the lists:  \n",
        "*   **nums** (a list of between 1 and 1000 random numbers, each number is between 0 and 1000)\n",
        "*   **characteristics** (a list of 5000 random protected_characteristics)\n",
        "\n",
        "and the tuple:\n",
        "*  **protected_characteristics** (a set of the 9 protected characteristics identified in the Equality Act)\n",
        "\n",
        "## You can run the cell above any number of times to generate new lists."
      ]
    },
    {
      "cell_type": "markdown",
      "metadata": {
        "id": "Ft0dXl7fUuaK"
      },
      "source": [
        "---\n",
        "### Exercise 1 - list head, tail and shape\n",
        "\n",
        "Write a function, **describe_list()** which will:\n",
        "*  print the length of the list `nums`\n",
        "*  print the first 10 items in `nums`  \n",
        "*  print the last 5 items in `nums`"
      ]
    },
    {
      "cell_type": "code",
      "metadata": {
        "id": "jUcZD7mmTJdA",
        "colab": {
          "base_uri": "https://localhost:8080/"
        },
        "outputId": "27dc0695-846e-4add-ae56-56b94f0f4ecf"
      },
      "source": [
        "def describe_list():\n",
        "  print(nums)\n",
        "  print(nums[:10]) #first ten items\n",
        "  print(nums[-5:]) #last 5 items\n",
        "\n",
        "describe_list()  "
      ],
      "execution_count": null,
      "outputs": [
        {
          "output_type": "stream",
          "text": [
            "[5, 90, 92, 65, 83, 81, 37, 12, 45, 20, 54, 48, 7, 53, 25, 48, 28, 94, 97, 74, 97, 18, 60, 23, 74, 76, 94, 55, 50, 93, 89, 90, 35, 94, 63, 70, 73, 40, 37, 15, 8, 82, 21, 93, 27, 51, 69, 36, 83, 44, 32, 27, 91, 30, 47, 28, 98, 48, 69, 26, 9, 62, 62, 26, 64, 65, 80, 56, 54, 44, 49, 50, 32, 56, 47, 9, 69, 92, 84, 48, 86, 81, 24, 85, 99, 57, 66, 34, 71, 70, 92, 74, 3, 66, 47, 89, 19, 59, 77, 56, 20, 96, 54, 7, 68, 47, 90, 53, 12, 17, 2, 58, 65, 20, 71, 14, 39, 43, 50, 76, 94, 40, 5, 2, 49, 40, 46, 25, 76, 65, 41, 90, 55, 15, 59, 8, 49, 90, 85, 29, 34, 27, 55, 52, 29, 85, 49, 39, 75, 37, 88, 73, 72, 22, 72, 50, 17, 50, 67, 96, 58, 70, 94, 59, 80, 35, 5, 30, 16, 38, 27, 27, 34, 90, 69, 55, 16, 23, 42, 87, 96, 26, 56, 41, 99, 99, 2, 45, 33, 57, 30, 60, 22, 39, 63, 94, 4, 6, 75, 39, 96, 19, 52, 84, 85, 92, 6, 37, 72, 75, 66, 51, 28, 82, 91, 99, 29, 66, 36, 22, 85, 40, 72, 53, 57, 8, 38, 78, 20, 50, 30, 31, 67, 30, 67, 56, 78, 34, 28, 60, 74, 29, 58, 93, 100, 73, 98, 70, 94, 79, 22, 65, 23, 11, 55, 39, 4, 17, 8, 15, 90, 49, 86, 32, 77, 90, 83, 32, 69, 66, 48, 31, 64, 61, 99, 40, 27, 26, 10, 29, 58, 47, 65, 44, 44, 75, 50, 36, 78, 50, 27, 43, 25, 41, 49, 88, 71, 15, 24, 19, 67, 66, 8, 7, 85, 85, 45, 55, 51, 78, 10, 12, 47, 8, 35, 89, 17, 86, 21, 39, 92, 86, 40, 70, 60, 85, 89, 70, 99, 48, 13, 34, 29, 8, 93, 66, 66, 86, 9, 61, 62, 35, 61, 36, 1, 45, 97, 55, 49, 77, 98, 79, 64, 93, 6, 73, 31, 37, 77, 55, 4, 91, 95, 44, 93, 84, 63, 82, 39, 63, 99, 9, 61, 26, 68, 1, 31, 100, 42, 93, 50, 71, 95, 95, 42, 68, 96, 53, 98, 73, 64, 18, 69, 50, 31, 59, 20, 12, 22, 98, 99, 58, 76, 10, 89, 60, 86, 45, 7, 59, 23, 68, 57, 39, 85, 25, 6, 22, 32, 99, 2, 1, 94, 52, 91, 76, 20, 98, 62, 32, 41, 8, 25, 80, 25, 15, 18, 63, 17, 11, 68, 2, 27, 6, 15, 21, 20, 72, 41, 91, 8, 45, 26, 82, 23, 84, 30, 87, 25, 67, 42, 6, 72, 61, 18, 15, 68, 97, 17, 61, 99, 87, 47, 27, 9, 73, 51, 39, 72, 69, 4, 57, 49, 80, 32, 30, 40, 1, 8, 79, 24, 27, 82, 57, 94, 65, 26, 66, 76, 62, 76, 35, 5, 26, 36, 28, 49, 18, 3, 74, 32, 63, 99, 81, 58, 88, 57, 97, 63, 63, 67, 99, 5, 23, 14, 40, 23, 83, 65, 44, 8, 82, 5, 59, 7, 89, 32, 81, 59, 93, 11, 38, 59, 73, 2, 75, 55, 86, 92, 11, 99, 75, 99, 86, 79, 31, 49, 56, 44, 16, 66, 56, 95, 92, 17, 99, 48, 60, 61, 62, 79, 70, 10, 16, 96, 63, 55, 14, 52, 41, 71, 8, 33, 3, 72, 42, 91, 7, 45, 57, 51, 91, 88, 78, 71, 75, 25, 82, 57, 33, 54, 19, 39, 81, 85, 7, 90, 26, 52, 82, 8, 71, 56, 23, 20, 76, 2, 27, 8, 35, 28, 33, 84, 66, 46, 90, 100, 96, 81, 92, 26, 67, 16, 55, 17, 52, 73, 42, 49, 81, 64, 52, 3, 54, 51, 30, 73, 51, 1, 68, 12, 99, 41, 17, 29, 1, 93, 52, 51, 59, 68, 66, 28, 54, 71, 35, 42, 2, 8, 20, 86, 20, 73, 40, 5, 16, 89, 89, 61, 71, 48, 44, 51, 10, 40, 67, 74, 65, 9, 50, 95, 33, 67, 37, 51, 22, 27, 30, 21, 100, 14, 84, 41, 53, 23, 70, 51, 65, 52, 57, 55, 64, 60, 78, 76, 32, 62, 65, 67, 96, 57, 81, 50, 32, 34, 83, 80, 27, 92, 17, 97, 96, 43, 71, 62, 84, 21, 26, 1, 44, 39, 60, 31, 86, 57, 27, 46, 20, 72, 64, 48, 95, 36, 32, 53, 64, 54, 46, 24, 52, 28, 58, 74, 94, 79, 56, 75, 47, 15, 57, 18, 55, 68, 6, 10, 20, 29, 5, 38, 14, 53, 75, 29, 21, 25, 72, 65, 4, 93, 4, 42, 15, 12, 16, 13, 62, 44, 65, 21, 100, 48, 68, 83, 30, 99, 6, 64, 43, 92, 51, 93, 56, 8, 18, 84, 36, 26, 90, 47, 88, 83, 21, 42, 15, 83, 25, 88, 82, 96, 93, 2, 18, 59, 10, 8, 82, 68, 62, 32, 100, 57, 51, 29, 87, 3, 89, 22, 89, 97, 59, 38, 77, 55, 91, 73, 11, 56, 100, 62, 20, 30, 100, 61, 96, 5, 62, 50, 3, 97, 18, 79, 98, 98, 78, 67, 66, 82, 13, 31, 100, 23, 99, 72, 98, 50, 58, 72, 28, 68, 5, 68, 11, 23, 94, 35, 32, 50, 33, 99, 90, 58, 62, 15, 38, 90, 51, 38, 50, 53, 29, 76, 86, 40, 79, 68, 89, 78, 42, 27, 38, 27, 23, 73, 9, 98, 9, 71, 52, 34, 71, 22, 92, 65, 13, 27, 82, 82, 17, 41, 2, 9, 88, 27, 94, 79, 54, 21, 35, 74, 73, 43, 94, 10, 25, 19, 65, 28, 24, 75, 85, 80, 9, 11, 81, 56, 59, 95, 85, 51, 41, 6, 60, 78, 26, 37, 69, 20, 13, 62, 52, 91, 69, 33, 57, 93, 30, 6, 96, 75, 58, 70, 2, 93, 8, 38, 47, 85, 90, 89, 71]\n",
            "[5, 90, 92, 65, 83, 81, 37, 12, 45, 20]\n",
            "[47, 85, 90, 89, 71]\n"
          ],
          "name": "stdout"
        }
      ]
    },
    {
      "cell_type": "markdown",
      "metadata": {
        "id": "yNWg08k6bXv0"
      },
      "source": [
        "---\n",
        "### Exercise 2 - show tuple items\n",
        "\n",
        "Write a function which will:\n",
        "*   use a loop to print the list of protected characteristics from the `protected_characteristics` tuple.\n"
      ]
    },
    {
      "cell_type": "code",
      "metadata": {
        "id": "P2HnCG9pb1BS",
        "colab": {
          "base_uri": "https://localhost:8080/"
        },
        "outputId": "e4b41eab-d905-4a70-a334-c1d748145950"
      },
      "source": [
        "def show_tuple_items():\n",
        "  for i in protected_characteristics:\n",
        "    print(i)\n",
        "\n",
        "show_tuple_items()    \n"
      ],
      "execution_count": null,
      "outputs": [
        {
          "output_type": "stream",
          "text": [
            "age\n",
            "disability\n",
            "gender reassignment\n",
            "marriage and civil partnership\n",
            "pregnancy and maternity\n",
            "race\n",
            "religion or belief\n",
            "sex\n",
            "sexual orientation\n"
          ],
          "name": "stdout"
        }
      ]
    },
    {
      "cell_type": "markdown",
      "metadata": {
        "id": "RTSuQZs4b1JU"
      },
      "source": [
        "---\n",
        "### Exercise 3 - list a random subset\n",
        "\n",
        "Write a function which will:\n",
        "*  calculate the position of the middle item in the `characteristics` list   \n",
        "(*Hint: use len() to help with this*)\n",
        "*  calculate the position of the item that is 5 places before the middle item\n",
        "*  calculate the position of the item that is 5 places after the middle item\n",
        "*  print the part of the list that includes the items from 5 places before to 5 places after.  \n",
        "\n",
        "Expected output:  \n",
        "Your list will include 11 items."
      ]
    },
    {
      "cell_type": "code",
      "metadata": {
        "id": "OwhFnH2kdC11",
        "colab": {
          "base_uri": "https://localhost:8080/"
        },
        "outputId": "f6e0090c-2bea-492f-fa63-9b00194d3ae3"
      },
      "source": [
        "def position_in_list():\n",
        "  #print(characteristics[int(len(characteristics) / 2)]) #this gives me the item in the middle \n",
        "  middle = len(characteristics) //2\n",
        "  print(characteristics[middle])\n",
        "  print(middle)\n",
        "  #print(characteristics.index(middle)) #not right format to find position of middle?\n",
        "  print(middle - 5)\n",
        "  print(middle + 5)\n",
        "  print(characteristics[1341:1351])\n",
        "position_in_list()"
      ],
      "execution_count": 11,
      "outputs": [
        {
          "output_type": "stream",
          "text": [
            "disability\n",
            "1346\n",
            "1341\n",
            "1351\n",
            "['sexual orientation', 'marriage and civil partnership', 'marriage and civil partnership', 'age', 'sexual orientation', 'disability', 'race', 'sexual orientation', 'religion or belief', 'marriage and civil partnership']\n"
          ],
          "name": "stdout"
        }
      ]
    },
    {
      "cell_type": "markdown",
      "metadata": {
        "id": "KS0x3oFNePI9"
      },
      "source": [
        "---\n",
        "### Exercise 4 - create a copy\n",
        "\n",
        "Write a function which will: use a for loop to create a copy of the `nums` list:\n",
        "\n",
        "*   create a new, empty, list called **new_nums**  (*Hint: an empty list is [ ]*)\n",
        "*   use a for loop which uses the following syntax:  `for num in nums:`\n",
        "*   each time round the loop append `num` to `new_nums`  ( *`new_nums.append(num)`*)\n",
        "*   print the first 10 items of `new_nums`\n",
        "*   print the first 10 items of `nums`\n",
        "*   print the length of both lists"
      ]
    },
    {
      "cell_type": "code",
      "metadata": {
        "id": "mpK1Ip3we-uC",
        "colab": {
          "base_uri": "https://localhost:8080/"
        },
        "outputId": "cb6926f1-d95c-4192-b817-30013c9cde07"
      },
      "source": [
        "def copy_of_nums():\n",
        "  new_nums =[]\n",
        "  for num in nums:\n",
        "    new_nums.append(num)\n",
        "  print(new_nums[:10]) #first 10 items \n",
        "  print(nums[:10])\n",
        "  print(len(nums) + len(new_nums))\n",
        "\n",
        "copy_of_nums()    "
      ],
      "execution_count": null,
      "outputs": [
        {
          "output_type": "stream",
          "text": [
            "[5, 90, 92, 65, 83, 81, 37, 12, 45, 20]\n",
            "[5, 90, 92, 65, 83, 81, 37, 12, 45, 20]\n",
            "2000\n"
          ],
          "name": "stdout"
        }
      ]
    },
    {
      "cell_type": "markdown",
      "metadata": {
        "id": "deUIFWjRe-3G"
      },
      "source": [
        "\n",
        "\n",
        "```\n",
        "# This is formatted as code\n",
        "```\n",
        "\n",
        "---\n",
        "### Exercise 5 - count the occurrence of age in characteristics\n",
        "\n",
        "Write a function which will use the list method:\n",
        "\n",
        "`list_name.count(item)`\n",
        "\n",
        "to count the number of occurrences of 'age' in the `characteristics` list.  Print the result."
      ]
    },
    {
      "cell_type": "code",
      "metadata": {
        "id": "b9TrHQ9hfoIU",
        "colab": {
          "base_uri": "https://localhost:8080/"
        },
        "outputId": "df575ed6-3c60-4096-f536-852165e69a4e"
      },
      "source": [
        "def count_times():\n",
        "  print(characteristics.count(\"age\"))\n",
        "\n",
        "count_times()  \n",
        "\n"
      ],
      "execution_count": null,
      "outputs": [
        {
          "output_type": "stream",
          "text": [
            "111\n"
          ],
          "name": "stdout"
        }
      ]
    },
    {
      "cell_type": "markdown",
      "metadata": {
        "id": "zm2VI5RmfoSy"
      },
      "source": [
        "---\n",
        "### Exercise 6 - sort the nums list\n",
        "\n",
        "Write a function which will:\n",
        "*   call the function `get_num_list()` and store the result in a new list called **sort_nums**\n",
        "*   print the first, and last, 20 items in the `sort_nums` list\n",
        "*   use the `list_name.sort()` method to sort the `sort_nums` list into ascending order\n",
        "*   print the first, and last, 20 items again  \n",
        "*   use the `list_name.sort()` method again to sort the `sort_nums` list into descending order\n",
        "*   print the first, and last, 20 items again"
      ]
    },
    {
      "cell_type": "code",
      "metadata": {
        "id": "Fksgpj9JgWDs",
        "colab": {
          "base_uri": "https://localhost:8080/"
        },
        "outputId": "3fb03456-1462-49ee-b726-05dc89ff9e9a"
      },
      "source": [
        "def sort_num_list():\n",
        "  sort_nums = nums.copy() #I thought of using the copy function to get the results in the new list\n",
        "  print(sort_nums[:20])\n",
        "  print(sort_nums[-20:])\n",
        "  sort_nums.sort()\n",
        "  print(sort_nums[:20])\n",
        "  print(sort_nums[-20:])\n",
        "  sort_nums.sort(reverse=True)\n",
        "  print(sort_nums[:20])\n",
        "  print(sort_nums[-20:])\n",
        "\n",
        "sort_num_list()  "
      ],
      "execution_count": null,
      "outputs": [
        {
          "output_type": "stream",
          "text": [
            "[5, 90, 92, 65, 83, 81, 37, 12, 45, 20, 54, 48, 7, 53, 25, 48, 28, 94, 97, 74]\n",
            "[91, 69, 33, 57, 93, 30, 6, 96, 75, 58, 70, 2, 93, 8, 38, 47, 85, 90, 89, 71]\n",
            "[1, 1, 1, 1, 1, 1, 1, 2, 2, 2, 2, 2, 2, 2, 2, 2, 2, 2, 3, 3]\n",
            "[99, 99, 99, 99, 99, 99, 99, 99, 99, 99, 99, 100, 100, 100, 100, 100, 100, 100, 100, 100]\n",
            "[100, 100, 100, 100, 100, 100, 100, 100, 100, 99, 99, 99, 99, 99, 99, 99, 99, 99, 99, 99]\n",
            "[3, 3, 2, 2, 2, 2, 2, 2, 2, 2, 2, 2, 2, 1, 1, 1, 1, 1, 1, 1]\n"
          ],
          "name": "stdout"
        }
      ]
    },
    {
      "cell_type": "markdown",
      "metadata": {
        "id": "_OF-Xuj1UrW0"
      },
      "source": [
        "---\n",
        "### Exercise 7 - get statistics (max(), min(), sum() )\n",
        "\n",
        "Write a function which will:\n",
        "*   print the maximum and minimum numbers in the `nums` list  \n",
        "*   print the sum of the `nums` list\n",
        "*   calculate and print the average of the `nums` list (using `len()` to help)"
      ]
    },
    {
      "cell_type": "code",
      "metadata": {
        "id": "9YmYMenZVGod",
        "colab": {
          "base_uri": "https://localhost:8080/"
        },
        "outputId": "bdbbb3d6-a16b-496b-9162-299188a6a6bc"
      },
      "source": [
        "def get_statistics():\n",
        "  print(max(nums))\n",
        "  print(min(nums))\n",
        "  print(sum(nums))\n",
        "  average = sum(nums) / len(nums)\n",
        "  print(average)\n",
        "\n",
        "get_statistics()  \n",
        "\n"
      ],
      "execution_count": null,
      "outputs": [
        {
          "output_type": "stream",
          "text": [
            "100\n",
            "1\n",
            "52222\n",
            "52.222\n"
          ],
          "name": "stdout"
        }
      ]
    },
    {
      "cell_type": "markdown",
      "metadata": {
        "id": "Mn4tHQ_KVbHa"
      },
      "source": [
        "---\n",
        "### Exercise 8 - percentage difference\n",
        "\n",
        "Write a function which will:\n",
        "*   generate a new list called **ex8_nums** using `get_num_list()`\n",
        "*   calculate and print the percentage difference between the first number in each list (as a percentage of the number in the nums list) (Hint:  find the difference between the two numbers, divide the difference by the number in `nums` and multiply by 100)\n",
        "*   calculate and print the percentage difference between the last numbers in each list in the same way\n",
        "*   calculate and print the percentage difference between the middle numbers in each list in the same way.\n",
        "*   calculate and print the percentage difference between the sums of each list in the same way"
      ]
    },
    {
      "cell_type": "code",
      "metadata": {
        "id": "nJCQjZIeZL0e"
      },
      "source": [
        ""
      ],
      "execution_count": null,
      "outputs": []
    },
    {
      "cell_type": "markdown",
      "metadata": {
        "id": "HNs3lZmYawFO"
      },
      "source": [
        "---\n",
        "### Exercise 9 - characteristic counts\n",
        "\n",
        "Write a function which will:\n",
        "*  iterate through the `protected_characteristics` tuple and for each **characteristic**:\n",
        "*   *   count the number of occurrences of that `characteristic` in the `characteristics` list\n",
        "*   *   print the `protected_characteristic` and the **count**  \n",
        "\n",
        "Example expected output:\n",
        "\n",
        "age 100  \n",
        "disability 120  \n",
        "gender reassignment 120  \n",
        "marriage and civil partnership 111  \n",
        "pregnancy and maternity 103  \n",
        "race 106  \n",
        "religion or belief 95  \n",
        "sex 110  \n",
        "sexual orientation 113  \n",
        "\n",
        "Extra learning:  you can read [here](https://thispointer.com/python-how-to-pad-strings-with-zero-space-or-some-other-character/) how to justify the printed characteristic so that the output is organised into two columns as shown below:  \n",
        "![tabulated output](https://drive.google.com/uc?id=1CCXfX6K5ZeDefnq7vUsqxCDmqvcfY8Mz)\n",
        "\n",
        "\n",
        "\n"
      ]
    },
    {
      "cell_type": "code",
      "metadata": {
        "id": "GURT11albqUs",
        "colab": {
          "base_uri": "https://localhost:8080/"
        },
        "outputId": "143c749b-f109-4521-f818-da0efa10a8cd"
      },
      "source": [
        "import pandas as pd #I saw this on a forum and provides data as expected and seems like a quick and efficient way\n",
        "\n",
        "my_count = pd.Series(characteristics).value_counts()\n",
        "print(my_count)"
      ],
      "execution_count": null,
      "outputs": [
        {
          "output_type": "stream",
          "text": [
            "gender reassignment               143\n",
            "marriage and civil partnership    131\n",
            "pregnancy and maternity           129\n",
            "sexual orientation                126\n",
            "race                              122\n",
            "religion or belief                114\n",
            "disability                        113\n",
            "sex                               111\n",
            "age                               111\n",
            "dtype: int64\n"
          ],
          "name": "stdout"
        }
      ]
    },
    {
      "cell_type": "markdown",
      "metadata": {
        "id": "9Po7yQj-ds38"
      },
      "source": [
        "---\n",
        "### Exercise 10 - characteristics statistics\n",
        "\n",
        "Assuming that the `characteristics` list may have been taken from a study of cases that have been taken to court in relation to the Equality Act.  \n",
        "\n",
        "Write a function which will:\n",
        "\n",
        "*   find the most common characteristic resulting in court action, from this population\n",
        "*   print this in a message, e.g. The characteristic with the highest number of court cases is:  *characteristic*\n",
        "*   print the list of `protected_characteristics`, on one line if possible - see [here](https://www.geeksforgeeks.org/g-fact-25-print-single-multiple-variable-python/)\n",
        "*   ask the user to enter a characteristic that they would like to see statistics on and use a while loop to continue until the user has entered a valid characteristic\n",
        "*   print the characteristic, its frequency and the percentage that this frequency is of the whole population."
      ]
    },
    {
      "cell_type": "code",
      "metadata": {
        "id": "uk_I5z7UgbDs"
      },
      "source": [
        ""
      ],
      "execution_count": null,
      "outputs": []
    }
  ]
}